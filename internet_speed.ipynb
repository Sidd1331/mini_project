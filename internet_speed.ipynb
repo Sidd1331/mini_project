{
 "cells": [
  {
   "cell_type": "code",
   "execution_count": 1,
   "id": "4e4839f9",
   "metadata": {},
   "outputs": [],
   "source": [
    "from tkinter import *\n",
    "import speedtest"
   ]
  },
  {
   "cell_type": "code",
   "execution_count": 2,
   "id": "ce982556",
   "metadata": {},
   "outputs": [],
   "source": [
    "def speedcheck():\n",
    "    sp = speedtest.Speedtest()\n",
    "    sp.get_servers()\n",
    "    down = str( round(sp.download()/(10**6),3))+\" Mbps\"\n",
    "    up = str( round(sp.upload()/(10**6),3))+\" Mbps\"\n",
    "    lab_down.config(text=down)\n",
    "    lab_up.config(text=up)"
   ]
  },
  {
   "cell_type": "code",
   "execution_count": 3,
   "id": "44a92a40",
   "metadata": {},
   "outputs": [],
   "source": [
    "sp = Tk()"
   ]
  },
  {
   "cell_type": "code",
   "execution_count": 4,
   "id": "79344755",
   "metadata": {},
   "outputs": [
    {
     "data": {
      "text/plain": [
       "''"
      ]
     },
     "execution_count": 4,
     "metadata": {},
     "output_type": "execute_result"
    }
   ],
   "source": [
    "sp.title(\"Internet Speed Test\")"
   ]
  },
  {
   "cell_type": "code",
   "execution_count": 5,
   "id": "2ac5028f",
   "metadata": {},
   "outputs": [
    {
     "data": {
      "text/plain": [
       "''"
      ]
     },
     "execution_count": 5,
     "metadata": {},
     "output_type": "execute_result"
    }
   ],
   "source": [
    "sp.geometry('500x650')"
   ]
  },
  {
   "cell_type": "code",
   "execution_count": 6,
   "id": "6bae2b5d",
   "metadata": {},
   "outputs": [],
   "source": [
    "sp.config(bg='Yellow')"
   ]
  },
  {
   "cell_type": "code",
   "execution_count": 7,
   "id": "2099c11c",
   "metadata": {},
   "outputs": [],
   "source": [
    "lab = Label(sp,text = 'Internet Speed Test', font=('Times New Roman',20,'bold'), bg='Yellow', fg='Black')"
   ]
  },
  {
   "cell_type": "code",
   "execution_count": 8,
   "id": "1f47ee0d",
   "metadata": {},
   "outputs": [],
   "source": [
    "lab.place(x=120,y=40, height=50,width=260)"
   ]
  },
  {
   "cell_type": "code",
   "execution_count": null,
   "id": "32aae13c",
   "metadata": {},
   "outputs": [],
   "source": []
  },
  {
   "cell_type": "code",
   "execution_count": 9,
   "id": "5e8e81dd",
   "metadata": {},
   "outputs": [],
   "source": [
    "lab = Label(sp,text = 'Downloading Speed', font=('Times New Roman',20,'bold'))\n",
    "lab.place(x=120,y=130, height=50,width=260)"
   ]
  },
  {
   "cell_type": "code",
   "execution_count": 10,
   "id": "f0456b2b",
   "metadata": {},
   "outputs": [],
   "source": [
    "lab_down = Label(sp,text = '00', font=('Times New Roman',20,'bold'))\n",
    "lab_down.place(x=120,y=200, height=50,width=260)"
   ]
  },
  {
   "cell_type": "code",
   "execution_count": 11,
   "id": "6b7f0e38",
   "metadata": {},
   "outputs": [],
   "source": [
    "lab = Label(sp,text = 'Uploading Speed', font=('Times New Roman',20,'bold'))\n",
    "lab.place(x=120,y=290, height=50,width=260)"
   ]
  },
  {
   "cell_type": "code",
   "execution_count": 12,
   "id": "18cff46a",
   "metadata": {},
   "outputs": [],
   "source": [
    "lab_up = Label(sp,text = '00', font=('Times New Roman',20,'bold'))\n",
    "lab_up.place(x=120,y=360, height=50,width=260)"
   ]
  },
  {
   "cell_type": "code",
   "execution_count": 13,
   "id": "2708ff7b",
   "metadata": {},
   "outputs": [],
   "source": [
    "button = Button(sp,text='CHECK SPEED', font=('Times New Roman',20,'bold'), relief=RAISED, bg='Red', command=speedcheck)\n",
    "button.place(x=120,y=460, height=50,width=260)"
   ]
  },
  {
   "cell_type": "code",
   "execution_count": 14,
   "id": "dd3088af",
   "metadata": {},
   "outputs": [],
   "source": [
    "sp.mainloop()"
   ]
  },
  {
   "cell_type": "code",
   "execution_count": null,
   "id": "5c316f17",
   "metadata": {},
   "outputs": [],
   "source": []
  }
 ],
 "metadata": {
  "kernelspec": {
   "display_name": "Python 3 (ipykernel)",
   "language": "python",
   "name": "python3"
  },
  "language_info": {
   "codemirror_mode": {
    "name": "ipython",
    "version": 3
   },
   "file_extension": ".py",
   "mimetype": "text/x-python",
   "name": "python",
   "nbconvert_exporter": "python",
   "pygments_lexer": "ipython3",
   "version": "3.9.12"
  }
 },
 "nbformat": 4,
 "nbformat_minor": 5
}
